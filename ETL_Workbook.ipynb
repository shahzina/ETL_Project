{
 "cells": [
  {
   "cell_type": "code",
   "execution_count": 1,
   "metadata": {},
   "outputs": [],
   "source": [
    "import pandas as pd\n",
    "import csv\n",
    "import requests\n",
    "from pprint import pprint\n",
    "import json\n",
    "import numpy as np\n",
    "from citipy import citipy"
   ]
  },
  {
   "cell_type": "markdown",
   "metadata": {},
   "source": [
    "## Yelp Business Data"
   ]
  },
  {
   "cell_type": "code",
   "execution_count": 2,
   "metadata": {},
   "outputs": [],
   "source": [
    "y_bus = pd.read_csv(\"yelp_business.csv\")"
   ]
  },
  {
   "cell_type": "code",
   "execution_count": 3,
   "metadata": {},
   "outputs": [
    {
     "data": {
      "text/html": [
       "<div>\n",
       "<style scoped>\n",
       "    .dataframe tbody tr th:only-of-type {\n",
       "        vertical-align: middle;\n",
       "    }\n",
       "\n",
       "    .dataframe tbody tr th {\n",
       "        vertical-align: top;\n",
       "    }\n",
       "\n",
       "    .dataframe thead th {\n",
       "        text-align: right;\n",
       "    }\n",
       "</style>\n",
       "<table border=\"1\" class=\"dataframe\">\n",
       "  <thead>\n",
       "    <tr style=\"text-align: right;\">\n",
       "      <th></th>\n",
       "      <th>business_id</th>\n",
       "      <th>categories</th>\n",
       "      <th>latitude</th>\n",
       "      <th>review_count</th>\n",
       "      <th>city</th>\n",
       "      <th>stars</th>\n",
       "    </tr>\n",
       "  </thead>\n",
       "  <tbody>\n",
       "    <tr>\n",
       "      <th>0</th>\n",
       "      <td>vcNAWiLM4dR7D2nwwJ7nCA</td>\n",
       "      <td>Doctors;Health &amp; Medical</td>\n",
       "      <td>33.499313</td>\n",
       "      <td>7</td>\n",
       "      <td>Phoenix</td>\n",
       "      <td>3.5</td>\n",
       "    </tr>\n",
       "    <tr>\n",
       "      <th>1</th>\n",
       "      <td>JwUE5GmEO-sH1FuwJgKBlQ</td>\n",
       "      <td>Restaurants</td>\n",
       "      <td>43.238893</td>\n",
       "      <td>26</td>\n",
       "      <td>De Forest</td>\n",
       "      <td>4.0</td>\n",
       "    </tr>\n",
       "    <tr>\n",
       "      <th>2</th>\n",
       "      <td>uGykseHzyS5xAMWoN6YUqA</td>\n",
       "      <td>American (Traditional);Restaurants</td>\n",
       "      <td>43.252267</td>\n",
       "      <td>16</td>\n",
       "      <td>De Forest</td>\n",
       "      <td>4.0</td>\n",
       "    </tr>\n",
       "    <tr>\n",
       "      <th>3</th>\n",
       "      <td>LRKJF43s9-3jG9Lgx4zODg</td>\n",
       "      <td>Food;Ice Cream &amp; Frozen Yogurt;Fast Food;Resta...</td>\n",
       "      <td>43.251045</td>\n",
       "      <td>7</td>\n",
       "      <td>De Forest</td>\n",
       "      <td>4.5</td>\n",
       "    </tr>\n",
       "    <tr>\n",
       "      <th>4</th>\n",
       "      <td>RgDg-k9S5YD_BaxMckifkg</td>\n",
       "      <td>Chinese;Restaurants</td>\n",
       "      <td>43.240875</td>\n",
       "      <td>3</td>\n",
       "      <td>De Forest</td>\n",
       "      <td>4.0</td>\n",
       "    </tr>\n",
       "  </tbody>\n",
       "</table>\n",
       "</div>"
      ],
      "text/plain": [
       "              business_id                                         categories  \\\n",
       "0  vcNAWiLM4dR7D2nwwJ7nCA                           Doctors;Health & Medical   \n",
       "1  JwUE5GmEO-sH1FuwJgKBlQ                                        Restaurants   \n",
       "2  uGykseHzyS5xAMWoN6YUqA                 American (Traditional);Restaurants   \n",
       "3  LRKJF43s9-3jG9Lgx4zODg  Food;Ice Cream & Frozen Yogurt;Fast Food;Resta...   \n",
       "4  RgDg-k9S5YD_BaxMckifkg                                Chinese;Restaurants   \n",
       "\n",
       "    latitude  review_count       city  stars  \n",
       "0  33.499313             7    Phoenix    3.5  \n",
       "1  43.238893            26  De Forest    4.0  \n",
       "2  43.252267            16  De Forest    4.0  \n",
       "3  43.251045             7  De Forest    4.5  \n",
       "4  43.240875             3  De Forest    4.0  "
      ]
     },
     "execution_count": 3,
     "metadata": {},
     "output_type": "execute_result"
    }
   ],
   "source": [
    "y_bus.head()"
   ]
  },
  {
   "cell_type": "code",
   "execution_count": 4,
   "metadata": {},
   "outputs": [
    {
     "name": "stdout",
     "output_type": "stream",
     "text": [
      "42153\n"
     ]
    }
   ],
   "source": [
    "print(len(y_bus))"
   ]
  },
  {
   "cell_type": "code",
   "execution_count": null,
   "metadata": {},
   "outputs": [],
   "source": [
    "yelp_business = pd.DataFrame(y_bus)\n",
    "yelp_business.head()"
   ]
  },
  {
   "cell_type": "code",
   "execution_count": null,
   "metadata": {},
   "outputs": [],
   "source": [
    "type(yelp_business)"
   ]
  },
  {
   "cell_type": "code",
   "execution_count": null,
   "metadata": {},
   "outputs": [],
   "source": [
    "yelp_business.isna().sum()"
   ]
  },
  {
   "cell_type": "code",
   "execution_count": null,
   "metadata": {},
   "outputs": [],
   "source": [
    "yelp_business = yelp_business.dropna(how='any')"
   ]
  },
  {
   "cell_type": "code",
   "execution_count": null,
   "metadata": {},
   "outputs": [],
   "source": [
    "yelp_business.isna().sum()"
   ]
  },
  {
   "cell_type": "code",
   "execution_count": null,
   "metadata": {},
   "outputs": [],
   "source": [
    "yelp_business.duplicated().sum()"
   ]
  },
  {
   "cell_type": "code",
   "execution_count": null,
   "metadata": {},
   "outputs": [],
   "source": [
    "yelp_business.describe()"
   ]
  },
  {
   "cell_type": "code",
   "execution_count": null,
   "metadata": {},
   "outputs": [],
   "source": []
  },
  {
   "cell_type": "markdown",
   "metadata": {},
   "source": [
    "### Yelp Reviews"
   ]
  },
  {
   "cell_type": "code",
   "execution_count": null,
   "metadata": {},
   "outputs": [],
   "source": [
    "y_rev = pd.read_csv(\"yelp_review.csv\")"
   ]
  },
  {
   "cell_type": "code",
   "execution_count": null,
   "metadata": {},
   "outputs": [],
   "source": [
    "y_rev.head()"
   ]
  },
  {
   "cell_type": "code",
   "execution_count": null,
   "metadata": {},
   "outputs": [],
   "source": [
    "print(len(y_rev))"
   ]
  },
  {
   "cell_type": "code",
   "execution_count": null,
   "metadata": {},
   "outputs": [],
   "source": [
    "yelp_reviews = pd.DataFrame(y_rev)\n",
    "yelp_reviews.head()"
   ]
  },
  {
   "cell_type": "code",
   "execution_count": null,
   "metadata": {},
   "outputs": [],
   "source": [
    "type(yelp_reviews)"
   ]
  },
  {
   "cell_type": "code",
   "execution_count": null,
   "metadata": {},
   "outputs": [],
   "source": [
    "yelp_reviews.isna().sum()"
   ]
  },
  {
   "cell_type": "code",
   "execution_count": null,
   "metadata": {},
   "outputs": [],
   "source": [
    "yelp_reviews = yelp_reviews.dropna(how = 'any')"
   ]
  },
  {
   "cell_type": "code",
   "execution_count": null,
   "metadata": {},
   "outputs": [],
   "source": [
    "yelp_reviews.isna().sum()"
   ]
  },
  {
   "cell_type": "code",
   "execution_count": null,
   "metadata": {},
   "outputs": [],
   "source": [
    "yelp_reviews.duplicated().sum()"
   ]
  },
  {
   "cell_type": "code",
   "execution_count": null,
   "metadata": {},
   "outputs": [],
   "source": [
    "yelp_reviews = yelp_reviews.drop_duplicates()"
   ]
  },
  {
   "cell_type": "code",
   "execution_count": null,
   "metadata": {},
   "outputs": [],
   "source": [
    "yelp_reviews.duplicated().sum()"
   ]
  },
  {
   "cell_type": "markdown",
   "metadata": {},
   "source": [
    "## Zomato API"
   ]
  },
  {
   "cell_type": "code",
   "execution_count": 5,
   "metadata": {},
   "outputs": [],
   "source": [
    "url = \"https://developers.zomato.com/api/v2.1/search?\""
   ]
  },
  {
   "cell_type": "code",
   "execution_count": 6,
   "metadata": {},
   "outputs": [
    {
     "name": "stdout",
     "output_type": "stream",
     "text": [
      "https://developers.zomato.com/api/v2.1/search?\n"
     ]
    }
   ],
   "source": [
    "header = {\"Accept\": \"application/json\", \"user_key\": \"0092256f05a628b53994aec9ae1f30e0\"}\n",
    "\n",
    "response = requests.get(url, headers=header).json()\n",
    "\n",
    "print(url)"
   ]
  },
  {
   "cell_type": "code",
   "execution_count": 8,
   "metadata": {},
   "outputs": [
    {
     "data": {
      "text/plain": [
       "635"
      ]
     },
     "execution_count": 8,
     "metadata": {},
     "output_type": "execute_result"
    }
   ],
   "source": [
    "# List for holding lat_lngs and cities\n",
    "lat_lngs = []\n",
    "cities = []\n",
    "\n",
    "# Create a set of random lat and lng combinations\n",
    "lats = np.random.uniform(low=-90.000, high=90.000, size=1500)\n",
    "lngs = np.random.uniform(low=-180.000, high=180.000, size=1500)\n",
    "lat_lngs = zip(lats, lngs)\n",
    "\n",
    "# Identify nearest city for each lat, lng combination\n",
    "for lat_lng in lat_lngs:\n",
    "    city = citipy.nearest_city(lat_lng[0], lat_lng[1]).city_name\n",
    "    \n",
    "    # If the city is unique, then add it to a our cities list\n",
    "    if city not in cities:\n",
    "        cities.append(city)\n",
    "\n",
    "# Print the city count to confirm sufficient count\n",
    "total = len(cities)\n",
    "total"
   ]
  },
  {
   "cell_type": "code",
   "execution_count": null,
   "metadata": {},
   "outputs": [],
   "source": [
    "%pprint\n",
    "pprint(response)"
   ]
  },
  {
   "cell_type": "code",
   "execution_count": 16,
   "metadata": {},
   "outputs": [
    {
     "ename": "TypeError",
     "evalue": "list indices must be integers or slices, not str",
     "output_type": "error",
     "traceback": [
      "\u001b[0;31m---------------------------------------------------------------------------\u001b[0m",
      "\u001b[0;31mTypeError\u001b[0m                                 Traceback (most recent call last)",
      "\u001b[0;32m<ipython-input-16-796f374a8428>\u001b[0m in \u001b[0;36m<module>\u001b[0;34m\u001b[0m\n\u001b[1;32m     11\u001b[0m     \u001b[0mcity_num\u001b[0m \u001b[0;34m+=\u001b[0m \u001b[0;36m1\u001b[0m\u001b[0;34m\u001b[0m\u001b[0;34m\u001b[0m\u001b[0m\n\u001b[1;32m     12\u001b[0m     \u001b[0;31m#try:\u001b[0m\u001b[0;34m\u001b[0m\u001b[0;34m\u001b[0m\u001b[0;34m\u001b[0m\u001b[0m\n\u001b[0;32m---> 13\u001b[0;31m     \u001b[0mcsvwriter\u001b[0m\u001b[0;34m.\u001b[0m\u001b[0mwriterow\u001b[0m\u001b[0;34m(\u001b[0m\u001b[0;34m[\u001b[0m\u001b[0mresponse\u001b[0m\u001b[0;34m[\u001b[0m\u001b[0;34m'location_suggestions'\u001b[0m\u001b[0;34m]\u001b[0m\u001b[0;34m[\u001b[0m\u001b[0;34m'id'\u001b[0m\u001b[0;34m]\u001b[0m\u001b[0;34m]\u001b[0m\u001b[0;34m)\u001b[0m\u001b[0;34m\u001b[0m\u001b[0;34m\u001b[0m\u001b[0m\n\u001b[0m\u001b[1;32m     14\u001b[0m     \u001b[0mprint\u001b[0m\u001b[0;34m(\u001b[0m\u001b[0;34mf\"Processing Record {city_num} of {total} | {city}\"\u001b[0m\u001b[0;34m)\u001b[0m\u001b[0;34m\u001b[0m\u001b[0;34m\u001b[0m\u001b[0m\n\u001b[1;32m     15\u001b[0m     \u001b[0;31m#except:\u001b[0m\u001b[0;34m\u001b[0m\u001b[0;34m\u001b[0m\u001b[0;34m\u001b[0m\u001b[0m\n",
      "\u001b[0;31mTypeError\u001b[0m: list indices must be integers or slices, not str"
     ]
    }
   ],
   "source": [
    "query_url = \"https://developers.zomato.com/api/v2.1/cities?q=\"\n",
    "city_num = 0\n",
    "api_data = open('output_data/locations.csv', 'w')\n",
    "csvwriter = csv.writer(api_data)\n",
    "header = ['Location ID']\n",
    "csvwriter.writerow(header)\n",
    "\n",
    "for city in cities:\n",
    "    url_header = {\"Accept\": \"application/json\", \"user_key\": \"4ae5aec1f3577713b3ece44fc9c3d123\"}\n",
    "    response = requests.get(query_url + city, headers=url_header).json()\n",
    "    city_num += 1\n",
    "    #try:\n",
    "    csvwriter.writerow([response['location_suggestions']['id']])\n",
    "    print(f\"Processing Record {city_num} of {total} | {city}\")\n",
    "    #except:\n",
    "        #print(f\"City not found. Skipping...\")\n",
    "        #continue\n",
    "api_data.close()"
   ]
  },
  {
   "cell_type": "code",
   "execution_count": 17,
   "metadata": {},
   "outputs": [
    {
     "name": "stdout",
     "output_type": "stream",
     "text": [
      "{'location_suggestions': [{'id': 3659, 'name': 'Thompson, MB', 'country_id': 37, 'country_name': 'Canada', 'country_flag_url': 'https://b.zmtcdn.com/images/countries/flags/country_37.png', 'should_experiment_with': 0, 'discovery_enabled': 0, 'has_new_ad_format': 0, 'is_state': 0, 'state_id': 122, 'state_name': 'Manitoba', 'state_code': 'MB'}, {'id': 3075, 'name': 'Thompson-Nicola, BC', 'country_id': 37, 'country_name': 'Canada', 'country_flag_url': 'https://b.zmtcdn.com/images/countries/flags/country_37.png', 'should_experiment_with': 0, 'discovery_enabled': 0, 'has_new_ad_format': 0, 'is_state': 0, 'state_id': 121, 'state_name': 'British Columbia', 'state_code': 'BC'}, {'id': 3082, 'name': 'Thompson-Nicola A, BC', 'country_id': 37, 'country_name': 'Canada', 'country_flag_url': 'https://b.zmtcdn.com/images/countries/flags/country_37.png', 'should_experiment_with': 0, 'discovery_enabled': 0, 'has_new_ad_format': 0, 'is_state': 0, 'state_id': 121, 'state_name': 'British Columbia', 'state_code': 'BC'}, {'id': 3083, 'name': 'Thompson-Nicola B, BC', 'country_id': 37, 'country_name': 'Canada', 'country_flag_url': 'https://b.zmtcdn.com/images/countries/flags/country_37.png', 'should_experiment_with': 0, 'discovery_enabled': 0, 'has_new_ad_format': 0, 'is_state': 0, 'state_id': 121, 'state_name': 'British Columbia', 'state_code': 'BC'}, {'id': 3084, 'name': 'Thompson-Nicola P, BC', 'country_id': 37, 'country_name': 'Canada', 'country_flag_url': 'https://b.zmtcdn.com/images/countries/flags/country_37.png', 'should_experiment_with': 0, 'discovery_enabled': 0, 'has_new_ad_format': 0, 'is_state': 0, 'state_id': 121, 'state_name': 'British Columbia', 'state_code': 'BC'}, {'id': 7086, 'name': 'Thompson Falls, MT', 'country_id': 216, 'country_name': 'United States', 'country_flag_url': 'https://b.zmtcdn.com/images/countries/flags/country_216.png', 'should_experiment_with': 0, 'discovery_enabled': 0, 'has_new_ad_format': 0, 'is_state': 0, 'state_id': 94, 'state_name': 'Montana', 'state_code': 'MT'}, {'id': 10560, 'name': 'Thompson, CT', 'country_id': 216, 'country_name': 'United States', 'country_flag_url': 'https://b.zmtcdn.com/images/countries/flags/country_216.png', 'should_experiment_with': 0, 'discovery_enabled': 0, 'has_new_ad_format': 0, 'is_state': 0, 'state_id': 75, 'state_name': 'Connecticut', 'state_code': 'CT'}], 'status': 'success', 'has_more': 0, 'has_total': 0}\n"
     ]
    }
   ],
   "source": [
    "print(response)"
   ]
  },
  {
   "cell_type": "code",
   "execution_count": null,
   "metadata": {},
   "outputs": [],
   "source": [
    "query_url = \"https://developers.zomato.com/api/v2.1/search?entity_id=\"\n",
    "city_num = 0\n",
    "api_data = open('output_data/zomato.csv', 'w')\n",
    "csvwriter = csv.writer(api_data)\n",
    "header = ['City', 'Restaurant', 'Lat', 'Lng', 'Rating', 'Rating Text']\n",
    "csvwriter.writerow(header)\n",
    "\n",
    "for city in cities:\n",
    "    url_header = {\"Accept\": \"application/json\", \"user_key\": \"0092256f05a628b53994aec9ae1f30e0\"}\n",
    "    response = requests.get(query_url + city, headers=url_header).json()\n",
    "    city_num += 1\n",
    "    try:\n",
    "        csvwriter.writerow([response['location']['city'], response['name'], response['location']['latitude'],\n",
    "                    response['location']['longitude'], response['user_rating']['aggregate_rating'], response['user_rating']['rating_text']])\n",
    "        print(f\"Processing Record {city_num} of {total} | {city}\")\n",
    "    except:\n",
    "        print(f\"City not found. Skipping...\")\n",
    "        continue\n",
    "api_data.close()"
   ]
  },
  {
   "cell_type": "code",
   "execution_count": null,
   "metadata": {},
   "outputs": [],
   "source": [
    "url -X GET --header \"Accept: application/json\" --header \"user-key: 4ae5aec1f3577713b3ece44fc9c3d123 \" \"https://developers.zomato.com/api/v2.1/categories\"\n"
   ]
  }
 ],
 "metadata": {
  "kernelspec": {
   "display_name": "Python 3",
   "language": "python",
   "name": "python3"
  },
  "language_info": {
   "codemirror_mode": {
    "name": "ipython",
    "version": 3
   },
   "file_extension": ".py",
   "mimetype": "text/x-python",
   "name": "python",
   "nbconvert_exporter": "python",
   "pygments_lexer": "ipython3",
   "version": "3.7.1"
  }
 },
 "nbformat": 4,
 "nbformat_minor": 2
}
